{
 "cells": [
  {
   "cell_type": "code",
   "execution_count": null,
   "metadata": {},
   "outputs": [],
   "source": [
    "#Load Packages\n",
    "library(DESeq2)\n",
    "library(edgeR)\n",
    "library(limma)\n",
    "library(gplots)\n",
    "library(RColorBrewer)\n",
    "library(pheatmap)\n",
    "library(ggplot2)\n",
    "library(ggrepel)\n",
    "library(pathfindR)\n",
    "library(scales)\n",
    "library(data.table)\n",
    "library(fBasics)\n",
    "library(forcats)\n",
    "library(omu)\n",
    "library(maptools)\n",
    "library(phyloseq)\n",
    "library(vegan)"
   ]
  },
  {
   "cell_type": "code",
   "execution_count": null,
   "metadata": {},
   "outputs": [],
   "source": [
    "#Set Theme for Figures\n",
    "theme<-theme(panel.background = element_blank(),panel.border=element_rect(fill=NA),\n",
    "        panel.grid.major = element_blank(),panel.grid.minor = element_blank(),strip.background=element_blank(),\n",
    "        axis.text.x=element_text(colour=\"black\"),axis.text.y=element_text(colour=\"black\"),\n",
    "        axis.ticks=element_line(colour=\"black\"),plot.margin=unit(c(1,1,1,1),\"line\"), legend.position=\"none\")"
   ]
  },
  {
   "cell_type": "code",
   "execution_count": null,
   "metadata": {},
   "outputs": [],
   "source": [
    "#Choose Alpha/FDR\n",
    "alpha = 0.01"
   ]
  },
  {
   "cell_type": "code",
   "execution_count": null,
   "metadata": {},
   "outputs": [],
   "source": [
    "##Load the files needed\n",
    "file = \"Merged.otu_table.biom\"\n",
    "map = \"Map.COPD.SmNV.b2.txt\""
   ]
  },
  {
   "cell_type": "code",
   "execution_count": null,
   "metadata": {},
   "outputs": [],
   "source": [
    "# Load the abundace table and mapping table \n",
    "abundance.table = import_biom(file, taxaPrefix=F)\n",
    "mapping.table=sample_data(read.table(map, header=T, sep=\"\\t\", row.names=1))"
   ]
  },
  {
   "cell_type": "code",
   "execution_count": null,
   "metadata": {},
   "outputs": [],
   "source": [
    "#Merge abundance and meta data into a phyloseq object\n",
    "lung.physeq=phyloseq(otu_table(abundance.table),tax_table(abundance.table), mapping.table)"
   ]
  },
  {
   "cell_type": "code",
   "execution_count": null,
   "metadata": {},
   "outputs": [],
   "source": [
    "#Make the columnnames of the pyloseq object of the phylogenetic tree\n",
    "colnames(tax_table(lung.physeq))=c(\"Domain\", \"Phylum\", \"Class\", \"Order\", \"Family\", \"Genus\", \"Species\")"
   ]
  },
  {
   "cell_type": "code",
   "execution_count": null,
   "metadata": {},
   "outputs": [],
   "source": [
    "#Load the tree file (use the unannotated.tree)\n",
    "treefile = \"97_otus.tree\"\n",
    "tree.obj = import_qiime(treefilename = treefile) "
   ]
  },
  {
   "cell_type": "code",
   "execution_count": null,
   "metadata": {},
   "outputs": [],
   "source": [
    "#Now merge the three separate phyloseq objects into a single object\n",
    "otu.table = merge_phyloseq(lung.physeq, mapping.table, tree.obj)\n",
    "\n",
    "# Remove taxa with 0 abundance\n",
    "otu.table = subset_taxa(otu.table, rowSums(otu_table(otu.table)) != 0)"
   ]
  },
  {
   "cell_type": "code",
   "execution_count": null,
   "metadata": {},
   "outputs": [],
   "source": [
    "##If you want to nomalize OTU table before\n",
    "## To normalize data you need to set a function\n",
    "normalizeSample = function(x) {\n",
    "    x/sum(x)\n",
    "}\n",
    "otu.relative.table = transformSampleCounts(otu.table, normalizeSample)"
   ]
  },
  {
   "cell_type": "code",
   "execution_count": null,
   "metadata": {},
   "outputs": [],
   "source": [
    "# # Create phyllum and order tables (do it after normalization and out of the relative table)\n",
    "Phylum.rel.table = tax_glom(otu.relative.table, taxrank = \"Phylum\")\n",
    "Class.rel.table = tax_glom(otu.relative.table, taxrank = \"Class\")\n",
    "Order.rel.table = tax_glom(otu.relative.table, taxrank = \"Order\")\n",
    "Family.rel.table = tax_glom(otu.relative.table, taxrank = \"Family\")\n",
    "Genus.rel.table = tax_glom(otu.relative.table, taxrank = \"Genus\")\n",
    "OTU.rel.table = tax_glom(otu.relative.table, taxrank = \"OTU\")\n",
    "\n",
    "Genus.table = tax_glom(otu.table, taxrank = \"Genus\")\n",
    "Genus.rel.table = transformSampleCounts(Genus.table, normalizeSample)"
   ]
  },
  {
   "cell_type": "code",
   "execution_count": null,
   "metadata": {},
   "outputs": [],
   "source": [
    "#Subset Samples\n",
    "MetaTranscript.Genus.rel.table = subset_samples(Genus.rel.table, Subset_1==1)\n",
    "MetaTranscript.Genus.rel.table = subset_samples(MetaTranscript.Genus.rel.table, Subject_Type_code %in% c(1, 2))\n",
    "MetaTranscript.Genus.rel.table = subset_samples(MetaTranscript.Genus.rel.table, Metatranscriptome_plus_BKG  %in% c(1))\n",
    "\n",
    "MetaTranscript.otu.rel.table = subset_samples(otu.relative.table, Subset_1==1)\n",
    "MetaTranscript.otu.rel.table = subset_samples(MetaTranscript.otu.rel.table, Subject_Type_code %in% c(1, 2))\n",
    "MetaTranscript.otu.rel.table = subset_samples(MetaTranscript.otu.rel.table, Metatranscriptome_plus_BKG  %in% c(1))"
   ]
  },
  {
   "cell_type": "code",
   "execution_count": null,
   "metadata": {},
   "outputs": [],
   "source": [
    "#HeatMap\n",
    "#select most abundant taxa genera present in >2% relative abundance in 1% of the samples (this approach brings in > 70% of the data in almost all samples)\n",
    "Genus.rel.wh1 = genefilter_sample(MetaTranscript.Genus.rel.table, filterfun_sample(function(x) x > 0.03), A = 0.01 * nsamples(MetaTranscript.Genus.rel.table))\n",
    "Genus.rel.table1B = prune_taxa(Genus.rel.wh1, MetaTranscript.Genus.rel.table)\n",
    "#set data tables  \n",
    "GenusData <-otu_table(Genus.rel.table1B) #pruned to selected Genuses based on abundance\n",
    "\n",
    "#cluster Genuses(row)\n",
    "GenusData.Bray.dist <-vegdist(GenusData, method = \"bray\")\n",
    "\n",
    "#cluster samples(Col)\n",
    "Samples.Bray.dist = distance(GenusData, method=\"bray\")\n",
    "\n",
    "\n",
    "#Set Color Scale for Heatmap\n",
    "mypalette <- colorRampPalette(c('#ffffff','#4169E1','#0000CD'))(100)\n",
    "#Set Colors for each sample type for HeatMap\n",
    "annon_colors= list(Sample_Type_Simple=c(BKG=\"#000001\", BAL=\"#8EFA00\", Sup=\"#932CE7\"))\n",
    "\n",
    "#Choose lables for Samples\n",
    "df2 <- data.frame(Sample_Type_Simple = sample_data(Genus.rel.table1B)[,c(\"Sample_Type_Simple\")], row.names = rownames(sample_data(Genus.rel.table1B)))\n",
    "\n",
    "#Create dataframe of count data\n",
    "df <- as.data.frame(GenusData)\n",
    "#Get Taxa Names from Phyloseq Object\n",
    "df = cbind(as(df, \"data.frame\"), as(tax_table(Genus.rel.table1B)[rownames(df), ], \"matrix\"))\n",
    "\n",
    "#Replace any no genus annotation as NA\n",
    "df[df==\"g__\"]<-NA\n",
    "df[df==\"f__\"]<-NA\n",
    "df[df==\"o__\"]<-NA\n",
    "df[df==\"c__\"]<-NA\n",
    "#Create name with family and (u.g)\n",
    "df$gs <- ifelse(is.na(df$Genus),paste(df$Family,\"(u.g.)\"), paste(df$Genus))\n",
    "df$gs <- ifelse(is.na(df$Family), paste(df$Order,\"(u.g.)\"),df$gs)\n",
    "df$gs <- ifelse(is.na(df$Order), paste(df$Class,\"(u.g.)\"),df$gs)\n",
    "df$gs <- ifelse(is.na(df$Class), paste(df$Phylum,\"(u.g.)\"),df$gs)\n",
    "\n",
    "#Set Rownames\n",
    "rownames(df) <- df$gs\n",
    "\n",
    "#Keep only the count data\n",
    "drops <- c(\"Domain\",\"Phylum\",\"Class\",\"Order\",\"Family\",\"Genus\",\"OTU\",\"gs\",\"Species\")\n",
    "df <- df[ , !(names(df) %in% drops)]\n",
    "#Change the names if you need to\n",
    "colnames(df) <- gsub(\"COPD.\",\"\",colnames(df))\n",
    "colnames(df) <- gsub(\"SmNV.\",\"\",colnames(df))\n",
    "colnames(df) <- gsub(\".171\",\"\",colnames(df))\n",
    "colnames(df) <- gsub(\".172\",\"\",colnames(df))\n",
    "colnames(df) <- gsub(\".173\",\"\",colnames(df))\n",
    "\n",
    "rownames(df2) <- gsub(\"COPD.\",\"\",rownames(df2))\n",
    "rownames(df2) <- gsub(\"SmNV.\",\"\",rownames(df2))\n",
    "rownames(df2) <- gsub(\".171\",\"\",rownames(df2))\n",
    "rownames(df2) <- gsub(\".172\",\"\",rownames(df2))\n",
    "rownames(df2) <- gsub(\".173\",\"\",rownames(df2))\n",
    "\n",
    "#Print HeatMap\n",
    "    pheatmap(df, cluster_rows=TRUE, show_rownames=TRUE, \n",
    "    cluster_cols=TRUE,annotation_col=df2,scale=\"row\",\n",
    "    clustering_distance_rows = GenusData.Bray.dist,clustering_distance_cols = Samples.Bray.dist,\n",
    "    clustering_method=\"average\",\n",
    "    gaps_col=50,\n",
    "    border_color=\"black\",\n",
    "    color = colorRampPalette(c('#4169E1','#ffffff','#0000CD'))(100),\n",
    "    annotation_colors=annon_colors[1],legend=FALSE)"
   ]
  },
  {
   "cell_type": "code",
   "execution_count": null,
   "metadata": {},
   "outputs": [],
   "source": [
    "#Convert Phyloseq Object to DESEq, correncting for any potential confounders\n",
    "diagdds <- phyloseq_to_deseq2(Genus.table, ~ Sample_Type_DMM_Class_ReSeq)\n",
    "diagdds <- phyloseq_to_deseq2(otu.table, ~ Sample_Type_DMM_Class_ReSeq)"
   ]
  },
  {
   "cell_type": "code",
   "execution_count": null,
   "metadata": {},
   "outputs": [],
   "source": [
    "#Calculate geometric means prior to estimate size factor\n",
    "gm_mean = function(x, na.rm=TRUE){ exp(sum(log(x[x > 0]), na.rm=na.rm) / length(x))}\n",
    "geoMeans = apply(counts(diagdds), 1, gm_mean)\n",
    "\n",
    "# Estimate Size, Disperssion and Variance\n",
    "diagdds = estimateSizeFactors(diagdds, geoMeans = geoMeans)\n",
    "diagdds = estimateDispersions(diagdds)"
   ]
  },
  {
   "cell_type": "code",
   "execution_count": null,
   "metadata": {},
   "outputs": [],
   "source": [
    "#Subset BAL for analysis\n",
    "diagdds <- diagdds[, diagdds$Subset_1 %in% c(1)]\n",
    "diagdds <- diagdds[, diagdds$Subject_Type_code  %in% c(1, 2)]\n",
    "diagdds <- diagdds[, diagdds$Metatranscriptome_plus_BKG  %in% c(1)]\n",
    "diagdds.bal <- diagdds[, diagdds$Sample_Description_s_code  %in% c(5)]"
   ]
  },
  {
   "cell_type": "code",
   "execution_count": null,
   "metadata": {},
   "outputs": [],
   "source": [
    "#Make sure all unwanted levels are removed from dataset\n",
    "diagdds$Sample_Type_DMM_Class_ReSeq <- droplevels(diagdds$Sample_Type_DMM_Class_ReSeq)"
   ]
  },
  {
   "cell_type": "code",
   "execution_count": null,
   "metadata": {},
   "outputs": [],
   "source": [
    "#Run the differential Analysis: Lung Cancer Vs Wild Type --> positive is upregulated in Lung Cancer; Negative is down regulated\n",
    "diagdds<- DESeq(diagdds)\n",
    "res4 <- results(diagdds)"
   ]
  },
  {
   "cell_type": "code",
   "execution_count": null,
   "metadata": {},
   "outputs": [],
   "source": []
  }
 ],
 "metadata": {
  "kernelspec": {
   "display_name": "R",
   "language": "R",
   "name": "ir"
  }
 },
 "nbformat": 4,
 "nbformat_minor": 2
}
