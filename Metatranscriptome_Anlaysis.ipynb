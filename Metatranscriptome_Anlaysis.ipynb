{
 "cells": [
  {
   "cell_type": "code",
   "execution_count": null,
   "metadata": {},
   "outputs": [],
   "source": [
    "# ------------------------------------------------------------------------------------------------\n",
    "# ------------------------------------------------------------------------------------------------\n",
    "# How to Install Packages Through Jupyter Notebook\n",
    "# https://stackoverflow.com/questions/42459423/cannot-install-r-packages-in-jupyter-notebook\n",
    "# install.packages(\"tidyverse\", repos='http://cran.us.r-project.org')\n",
    "# install.packages(\"MASS\", repos='http://cran.us.r-project.org')\n",
    "# ------------------------------------------------------------------------------------------------\n",
    "# ------------------------------------------------------------------------------------------------\n",
    "#Install Base Packages\n",
    "install.packages(\"BiocManager\")\n",
    "install.packages(\"vegan\")\n",
    "install.packages(\"ggplot2\")\n",
    "install.packages(\"RColorBrewer\")\n",
    "install.packages(\"gplots\")\n",
    "install.packages(\"pheatmap\")\n",
    "install.packages(\"ggrepel\")\n",
    "install.packages(\"scales\")\n",
    "install.packages(\"data.table\")\n",
    "install.packages(\"fBasics\")\n",
    "install.packages(\"forcats\")\n",
    "install.packages(\"maptools\")"
   ]
  },
  {
   "cell_type": "code",
   "execution_count": 7,
   "metadata": {},
   "outputs": [
    {
     "name": "stderr",
     "output_type": "stream",
     "text": [
      "Bioconductor version 3.9 (BiocManager 1.30.7), R 3.6.1 (2019-07-05)\n",
      "Installing package(s) 'edgeR'\n",
      "also installing the dependencies ‘lattice’, ‘limma’, ‘locfit’\n",
      "\n",
      "Warning message in install.packages(...):\n",
      "“installation of package ‘lattice’ had non-zero exit status”Warning message in install.packages(...):\n",
      "“installation of package ‘limma’ had non-zero exit status”Warning message in install.packages(...):\n",
      "“installation of package ‘locfit’ had non-zero exit status”Warning message in install.packages(...):\n",
      "“installation of package ‘edgeR’ had non-zero exit status”Updating HTML index of packages in '.Library'\n",
      "Making 'packages.html' ... done\n",
      "Update old packages: 'digest', 'evaluate', 'htmltools', 'IRkernel', 'Rcpp',\n",
      "  'repr'\n"
     ]
    }
   ],
   "source": [
    "#Install Bioconductor Packages\n",
    "BiocManager::install(\"DESeq2\")\n",
    "BiocManager::install(\"edgeR\")\n",
    "BiocManager::install(\"org.Hs.eg.db\")\n",
    "BiocManager::install(\"limma\")\n",
    "BiocManager::install(\"KEGGREST\")\n",
    "BiocManager::install(\"pathview\")\n",
    "BiocManager::install(\"phyloseq\")"
   ]
  },
  {
   "cell_type": "code",
   "execution_count": null,
   "metadata": {},
   "outputs": [],
   "source": [
    "#Install Packages That Required BioConductor\n",
    "install.packages(\"omu\")\n",
    "install.packages(\"pathfindR\")"
   ]
  },
  {
   "cell_type": "code",
   "execution_count": 6,
   "metadata": {},
   "outputs": [
    {
     "ename": "ERROR",
     "evalue": "Error in library(DESeq2): there is no package called ‘DESeq2’\n",
     "output_type": "error",
     "traceback": [
      "Error in library(DESeq2): there is no package called ‘DESeq2’\nTraceback:\n",
      "1. library(DESeq2)"
     ]
    }
   ],
   "source": [
    "#Load Packages\n",
    "library(DESeq2)\n",
    "library(edgeR)\n",
    "library(limma)\n",
    "library(gplots)\n",
    "library(RColorBrewer)\n",
    "library(pheatmap)\n",
    "library(ggplot2)\n",
    "library(ggrepel)\n",
    "library(pathfindR)\n",
    "library(scales)\n",
    "library(data.table)\n",
    "library(fBasics)\n",
    "library(forcats)\n",
    "library(omu)\n",
    "library(maptools)\n",
    "library(phyloseq)\n",
    "library(vegan)"
   ]
  },
  {
   "cell_type": "code",
   "execution_count": null,
   "metadata": {},
   "outputs": [],
   "source": [
    "#Set Theme for Figures\n",
    "theme<-theme(panel.background = element_blank(),panel.border=element_rect(fill=NA),\n",
    "        panel.grid.major = element_blank(),panel.grid.minor = element_blank(),strip.background=element_blank(),\n",
    "        axis.text.x=element_text(colour=\"black\"),axis.text.y=element_text(colour=\"black\"),\n",
    "        axis.ticks=element_line(colour=\"black\"),plot.margin=unit(c(1,1,1,1),\"line\"), legend.position=\"none\")"
   ]
  },
  {
   "cell_type": "code",
   "execution_count": null,
   "metadata": {},
   "outputs": [],
   "source": [
    "#Choose Alpha/FDR\n",
    "alpha = 0.01"
   ]
  },
  {
   "cell_type": "code",
   "execution_count": null,
   "metadata": {},
   "outputs": [],
   "source": [
    "#Load Meta Data\n",
    "coldata <- read.delim2(\"Map.Metatrancriptome.COPD.SmNV.b3.txt\", sep=\"\\t\")\n",
    "\n",
    "#Remove Sample with 0 Reads for all Genes\n",
    "coldata <- coldata[coldata$SampleID!=\"SmNV.0039.BAL.L.untouched\",]\n",
    "\n",
    "#Order Meta Data by SampleId\n",
    "coldata <- coldata[order(coldata$SampleID),]"
   ]
  },
  {
   "cell_type": "code",
   "execution_count": null,
   "metadata": {},
   "outputs": [],
   "source": [
    "#load Count Data\n",
    "mycounts <-read.delim2(\"KEGG_gene_table.txt\", sep=\"\\t\", row.names=1)"
   ]
  }
 ],
 "metadata": {
  "kernelspec": {
   "display_name": "R",
   "language": "R",
   "name": "ir"
  },
  "language_info": {
   "codemirror_mode": "r",
   "file_extension": ".r",
   "mimetype": "text/x-r-source",
   "name": "R",
   "pygments_lexer": "r",
   "version": "3.6.1"
  }
 },
 "nbformat": 4,
 "nbformat_minor": 2
}
