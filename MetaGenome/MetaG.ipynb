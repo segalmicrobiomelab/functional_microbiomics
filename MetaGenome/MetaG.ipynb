{
 "cells": [
  {
   "cell_type": "code",
   "execution_count": null,
   "metadata": {},
   "outputs": [],
   "source": [
    "#Load Packages\n",
    "library(DESeq2)\n",
    "library(edgeR)\n",
    "library(limma)\n",
    "library(gplots)\n",
    "library(RColorBrewer)\n",
    "library(pheatmap)\n",
    "library(ggplot2)\n",
    "library(ggrepel)\n",
    "library(pathfindR)\n",
    "library(scales)\n",
    "library(data.table)\n",
    "library(fBasics)\n",
    "library(forcats)\n",
    "library(omu)\n",
    "library(maptools)\n",
    "library(phyloseq)\n",
    "library(vegan)"
   ]
  },
  {
   "cell_type": "code",
   "execution_count": null,
   "metadata": {},
   "outputs": [],
   "source": [
    "#Set Theme for Figures\n",
    "theme<-theme(panel.background = element_blank(),panel.border=element_rect(fill=NA),\n",
    "        panel.grid.major = element_blank(),panel.grid.minor = element_blank(),strip.background=element_blank(),\n",
    "        axis.text.x=element_text(colour=\"black\"),axis.text.y=element_text(colour=\"black\"),\n",
    "        axis.ticks=element_line(colour=\"black\"),plot.margin=unit(c(1,1,1,1),\"line\"), legend.position=\"none\")"
   ]
  },
  {
   "cell_type": "code",
   "execution_count": null,
   "metadata": {},
   "outputs": [],
   "source": [
    "#Choose Alpha/FDR\n",
    "alpha = 0.01"
   ]
  },
  {
   "cell_type": "code",
   "execution_count": null,
   "metadata": {},
   "outputs": [],
   "source": [
    "#Load Meta Data\n",
    "coldata <- read.delim2(\"Map.Metatrancriptome.COPD.SmNV.b2.txt\", sep=\"\\t\")\n",
    "\n",
    "#Order Meta Data by SampleId\n",
    "coldata <- coldata[order(coldata$SampleID),]"
   ]
  },
  {
   "cell_type": "code",
   "execution_count": null,
   "metadata": {},
   "outputs": [],
   "source": [
    "#load Count Data\n",
    "mycounts <-read.delim2(\"Metagenome_KEGG_ANNOTATED.txt\", sep=\"\\t\", row.names=1)\n",
    "\n",
    "#Order Count Data by SampleID\n",
    "mycounts <-mycounts[, order(colnames(mycounts))]\n",
    "\n",
    "#Confirm Sample IDs match for Count and Meta Data\n",
    "table(colnames(mycounts)==as.character(coldata$SampleID))"
   ]
  },
  {
   "cell_type": "code",
   "execution_count": null,
   "metadata": {},
   "outputs": [],
   "source": [
    "#Fix Zeros and Change date to Numeric/Integer\n",
    "\n",
    "\n",
    "#Convert any NAs to 0\n",
    "mycounts[is.na(mycounts)] <- 0\n",
    "\n",
    "#Copy of Count Table\n",
    "mycounts3 <- mycounts\n",
    "\n",
    "#Convert Count Table into a Numeic Data Frame\n",
    "d1 = data.frame(lapply(mycounts3, function(x) as.numeric(as.character(x))),\n",
    "                   check.names=F, row.names = rownames(mycounts3))\n",
    "\n",
    "#Convert Data to Integers to Run DESEq\n",
    "d1[] <- lapply(d1, as.integer)"
   ]
  },
  {
   "cell_type": "code",
   "execution_count": null,
   "metadata": {},
   "outputs": [],
   "source": [
    "#Make CountData and MetaData into DESEq Object; Choose the comparison Variable as design\n",
    "dds <- DESeqDataSetFromMatrix(countData = d1,\n",
    "                              colData = coldata,\n",
    "                              design= ~ Sample_Type_DMM_Class_ReSeq)"
   ]
  },
  {
   "cell_type": "code",
   "execution_count": null,
   "metadata": {},
   "outputs": [],
   "source": [
    "#Calculate geometric means prior to estimate size factor\n",
    "gm_mean = function(x, na.rm=TRUE){ exp(sum(log(x[x > 0]), na.rm=na.rm) / length(x))}\n",
    "geoMeans = apply(counts(dds), 1, gm_mean)\n",
    "\n",
    "#Estimate Factors of DESeq Object\n",
    "dds <- estimateSizeFactors(dds, geoMeans = geoMeans)"
   ]
  },
  {
   "cell_type": "code",
   "execution_count": null,
   "metadata": {},
   "outputs": [],
   "source": [
    "#----------------------\n",
    "##Create graph of Reads\n",
    "#----------------------\n",
    "#Sum number or reads per sample\n",
    "summary <- as.data.frame(rowSums(t(assay(dds))))\n",
    "#Merge Reads Data with MetaData\n",
    "require(data.table)\n",
    "Reads <- as.data.frame(merge(x = summary, y = colData(dds), by = \"row.names\", all.x = TRUE))\n",
    "#Rename Column of Reads\n",
    "colnames(Reads)[colnames(Reads)==\"rowSums.t.assay.dds...\"] <- \"Reads\"\n",
    "#Set Order Of Figure\n",
    "Reads$or <-ifelse(Reads$Sample_Type_DMM_Class_ReSeq==\"BKG\", 1,NA)\n",
    "Reads$or <-ifelse(Reads$Sample_Type_DMM_Class_ReSeq==\"BAL.BPT\",2 ,Reads$or)\n",
    "Reads$or <-ifelse(Reads$Sample_Type_DMM_Class_ReSeq==\"BAL.SPT\",3 ,Reads$or)\n",
    "Reads$or <-ifelse(Reads$Sample_Type_DMM_Class_ReSeq==\"Sup\",4 ,Reads$or)\n",
    "#Create Figure\n",
    "    ggplot(Reads, aes(x= reorder(Sample_Type_DMM_Class_ReSeq, +or), y=Reads, fill=Sample_Type_DMM_Class_ReSeq)) + \n",
    "    stat_boxplot(geom ='errorbar', width=0.1)+\n",
    "    geom_boxplot(outlier.shape = NA, width=0.5)+\n",
    "    geom_jitter(shape=1, position=position_jitter(0.2))+\n",
    "    scale_fill_manual(values=c(\"#296218\", \"#EA3323\", \"#000000\",\"#932CE7\")) +\n",
    "    scale_x_discrete(labels = c('BKG','BPT','SPT','Sup'))+ \n",
    "    scale_y_continuous(name=\"Reads\",trans=\"log10\", breaks = trans_breaks('log10', function(x) 10^x), labels = trans_format('log10', math_format(10^.x))) +\n",
    "    xlab(\"Sample Type\")+\n",
    "    theme\n",
    "                                                                         \n",
    "#Run Statistics                                                                        \n",
    "kruskal.test(Reads ~ Sample_Type_DMM_Class_ReSeq, data = Reads)"
   ]
  },
  {
   "cell_type": "code",
   "execution_count": null,
   "metadata": {},
   "outputs": [],
   "source": [
    "#Transforming data - Option #1 is regularized-logarithm transformation, or rlog for short. \n",
    "#rld <- rlog(dds, fitType=\"local\")\n",
    "\n",
    "#Transforming data - Option #2 Variance Stabilizing\n",
    "vsd <- varianceStabilizingTransformation(dds)"
   ]
  },
  {
   "cell_type": "code",
   "execution_count": null,
   "metadata": {},
   "outputs": [],
   "source": [
    "#Removed ungrouped KEGGS\n",
    "dds1 <- dds[!grepl(\"UNGROUPED|UNMAPPED\",rownames(assay(dds))),]\n",
    "rld1 <- rld[!grepl(\"UNGROUPED|UNMAPPED\",rownames(assay(rld))),]\n",
    "vsd1 <- vsd[!grepl(\"UNGROUPED|UNMAPPED\",rownames(assay(vsd))),]\n",
    "\n",
    "#keep only data which includes Taxa Data\n",
    "dds2 <- dds1[grep(\"g_|unclassified\",rownames(assay(dds1))),]\n",
    "dds2 <- dds2[!grepl(\"unclassified\",rownames(assay(dds2))),]\n",
    "rld2 <- rld1[grep(\"g_|unclassified\",rownames(assay(rld1))),]\n",
    "rld2 <- rld2[!grepl(\"unclassified\",rownames(assay(rld2))),]\n",
    "vsd2 <- vsd1[grep(\"g_|unclassified\",rownames(assay(vsd1))),]\n",
    "vsd2 <- vsd2[!grepl(\"unclassified\",rownames(assay(vsd2))),]\n",
    "\n",
    "#keep only data for KEGG without Taxa Data\n",
    "dds3 <- dds1[!grepl(\"g_|unclassified\",rownames(assay(dds1))),]\n",
    "rld3 <- rld1[!grepl(\"g_|unclassified\",rownames(assay(rld1))),]\n",
    "vsd3 <- vsd1[!grepl(\"g_|unclassified\",rownames(assay(vsd1))),]"
   ]
  },
  {
   "cell_type": "markdown",
   "metadata": {},
   "source": [
    "#===========================================================================================================================================================================\n",
    "#===========================================================================================================================================================================\n",
    "#////////////////// KEGG /////////////////////\n",
    "#===========================================================================================================================================================================\n",
    "#==========================================================================================================================================================================="
   ]
  },
  {
   "cell_type": "code",
   "execution_count": null,
   "metadata": {},
   "outputs": [],
   "source": [
    "#=========================================================\n",
    "#/////////////PCOA PLOT based on 16S Clustering///////////\n",
    "#=========================================================\n",
    "#Fix the Negative Values\n",
    "#rld30 <- ifelse(assay(rld3)<0,0,assay(rld3))\n",
    "vsd30 <- ifelse(assay(vsd3)<0,0,assay(vsd3))\n",
    "\n",
    "#Create Distance Matrix\n",
    "#vegdist   = vegdist(t(rld30), method=\"bray\")\n",
    "vegdist   = vegdist(t(vsd30), method=\"bray\")\n",
    "\n",
    "#Formulate principal component co-ordinates for PCOA plot, k as the choice of PCs\n",
    "CmdScale <- cmdscale(vegdist, k =10)\n",
    "#calculated Sample variance for each PC\n",
    "vars <- apply(CmdScale, 2, var)\n",
    "#Create Variable with the Percent Variance\n",
    "percentVar <- round(100 * (vars/sum(vars)))\n",
    "\n",
    "#Merge PC Data with MetaData\n",
    "require(data.table)\n",
    "newResults <- merge(x = CmdScale, y = colData(vsd3), by = \"row.names\", all.x = TRUE)\n",
    "#Rename Variables for PC1 and PC2\n",
    "colnames(newResults)[colnames(newResults)==\"V1\"] <- \"PC1\"\n",
    "colnames(newResults)[colnames(newResults)==\"V2\"] <- \"PC2\"\n",
    "colnames(newResults)[colnames(newResults)==\"Row.names\"] <- \"name\"\n",
    "\n",
    "#Calculate the Centroid Value\n",
    "centroids <- aggregate(cbind(PC1,PC2)~Sample_Type_DMM_Class_ReSeq,data= newResults, mean)\n",
    "#Merge the Centroid Data into the PCOA Data\n",
    "newResults <- merge(newResults,centroids,by=\"Sample_Type_DMM_Class_ReSeq\",suffixes=c(\"\",\".centroid\"))\n",
    "\n",
    "#Plot PCOA \n",
    "    ggplot(newResults, aes(PC1, PC2, color=Sample_Type_DMM_Class_ReSeq)) +\n",
    "    geom_point(size=5, alpha=0.7) +\n",
    "    xlab(paste0(\"PC1: \",percentVar[1],\"% variance\")) +\n",
    "    ylab(paste0(\"PC2: \",percentVar[2],\"% variance\")) + \n",
    "    scale_color_manual(values=c(\"#296218\", \"#EA3323\", \"#000000\",\"#932CE7\")) + \n",
    "    geom_point(data=centroids, aes(x=PC1, y=PC2, color=Sample_Type_DMM_Class_ReSeq), size=0) +\n",
    "    geom_segment(aes(x=PC1.centroid, y=PC2.centroid, xend=PC1, yend=PC2, color=Sample_Type_DMM_Class_ReSeq))+ \n",
    "    geom_label_repel(data = centroids, aes(x=PC1, y=PC2, label=c(\"BAL.BPT\", \"BAL.SPT\", \"BKG\", \"UA\")), size=10) +\n",
    "    theme(panel.background = element_blank(),panel.border=element_rect(fill=NA),panel.grid.major = element_blank(),panel.grid.minor = element_blank(),strip.background=element_blank(),axis.title=element_text(size=30,face=\"bold\"),axis.text.x=element_blank(),axis.text.y=element_blank(),axis.ticks=element_blank(),plot.margin=unit(c(1,1,1,1),\"line\"), legend.position=\"none\")\n",
    "\n",
    "#Run Statistics\n",
    "adonis(vegdist ~ vsd3$Sample_Type_DMM_Class_ReSeq)"
   ]
  }
 ],
 "metadata": {
  "kernelspec": {
   "display_name": "R",
   "language": "R",
   "name": "ir"
  }
 },
 "nbformat": 4,
 "nbformat_minor": 2
}
