{
 "cells": [
  {
   "cell_type": "code",
   "execution_count": 2,
   "metadata": {},
   "outputs": [
    {
     "name": "stderr",
     "output_type": "stream",
     "text": [
      "Updating HTML index of packages in '.Library'\n",
      "Making 'packages.html' ... done\n",
      "Bioconductor version 3.9 (BiocManager 1.30.7), R 3.6.1 (2019-07-05)\n",
      "Installing package(s) 'BiocVersion', 'DESeq2'\n",
      "also installing the dependencies ‘bit’, ‘prettyunits’, ‘ellipsis’, ‘zeallot’, ‘mime’, ‘bitops’, ‘formatR’, ‘bit64’, ‘blob’, ‘memoise’, ‘plogr’, ‘glue’, ‘stringi’, ‘colorspace’, ‘assertthat’, ‘utf8’, ‘vctrs’, ‘highr’, ‘markdown’, ‘yaml’, ‘xfun’, ‘backports’, ‘RCurl’, ‘GenomeInfoDbData’, ‘zlibbioc’, ‘matrixStats’, ‘lambda.r’, ‘futile.options’, ‘DBI’, ‘RSQLite’, ‘XML’, ‘xtable’, ‘nlme’, ‘plyr’, ‘stringr’, ‘labeling’, ‘munsell’, ‘R6’, ‘cli’, ‘fansi’, ‘pillar’, ‘pkgconfig’, ‘knitr’, ‘magrittr’, ‘checkmate’, ‘htmlwidgets’, ‘rstudioapi’, ‘GenomeInfoDb’, ‘XVector’, ‘DelayedArray’, ‘Matrix’, ‘futile.logger’, ‘snow’, ‘BH’, ‘AnnotationDbi’, ‘annotate’, ‘survival’, ‘lattice’, ‘RColorBrewer’, ‘gtable’, ‘lazyeval’, ‘MASS’, ‘mgcv’, ‘reshape2’, ‘rlang’, ‘scales’, ‘tibble’, ‘viridisLite’, ‘withr’, ‘Formula’, ‘latticeExtra’, ‘cluster’, ‘rpart’, ‘nnet’, ‘acepack’, ‘foreign’, ‘gridExtra’, ‘data.table’, ‘htmlTable’, ‘viridis’, ‘S4Vectors’, ‘IRanges’, ‘GenomicRanges’, ‘SummarizedExperiment’, ‘BiocGenerics’, ‘Biobase’, ‘BiocParallel’, ‘genefilter’, ‘locfit’, ‘geneplotter’, ‘ggplot2’, ‘Hmisc’, ‘RcppArmadillo’\n",
      "\n",
      "Warning message in install.packages(...):\n",
      "“installation of package ‘bit’ had non-zero exit status”Warning message in install.packages(...):\n",
      "“installation of package ‘mime’ had non-zero exit status”Warning message in install.packages(...):\n",
      "“installation of package ‘bitops’ had non-zero exit status”Warning message in install.packages(...):\n",
      "“installation of package ‘glue’ had non-zero exit status”Warning message in install.packages(...):\n",
      "“installation of package ‘stringi’ had non-zero exit status”Warning message in install.packages(...):\n",
      "“installation of package ‘colorspace’ had non-zero exit status”Warning message in install.packages(...):\n",
      "“installation of package ‘utf8’ had non-zero exit status”Warning message in install.packages(...):\n",
      "“installation of package ‘yaml’ had non-zero exit status”Warning message in install.packages(...):\n",
      "“installation of package ‘backports’ had non-zero exit status”Warning message in install.packages(...):\n",
      "“installation of package ‘matrixStats’ had non-zero exit status”Warning message in install.packages(...):\n",
      "“installation of package ‘XML’ had non-zero exit status”Warning message in install.packages(...):\n",
      "“installation of package ‘plyr’ had non-zero exit status”Warning message in install.packages(...):\n",
      "“installation of package ‘fansi’ had non-zero exit status”Warning message in install.packages(...):\n",
      "“installation of package ‘lattice’ had non-zero exit status”Warning message in install.packages(...):\n",
      "“installation of package ‘lazyeval’ had non-zero exit status”Warning message in install.packages(...):\n",
      "“installation of package ‘MASS’ had non-zero exit status”Warning message in install.packages(...):\n",
      "“installation of package ‘rlang’ had non-zero exit status”Warning message in install.packages(...):\n",
      "“installation of package ‘cluster’ had non-zero exit status”Warning message in install.packages(...):\n",
      "“installation of package ‘rpart’ had non-zero exit status”Warning message in install.packages(...):\n",
      "“installation of package ‘nnet’ had non-zero exit status”Warning message in install.packages(...):\n",
      "“installation of package ‘acepack’ had non-zero exit status”Warning message in install.packages(...):\n",
      "“installation of package ‘foreign’ had non-zero exit status”Warning message in install.packages(...):\n",
      "“installation of package ‘data.table’ had non-zero exit status”Warning message in install.packages(...):\n",
      "“installation of package ‘RcppArmadillo’ had non-zero exit status”Warning message in install.packages(...):\n",
      "“installation of package ‘ellipsis’ had non-zero exit status”Warning message in install.packages(...):\n",
      "“installation of package ‘bit64’ had non-zero exit status”Warning message in install.packages(...):\n",
      "“installation of package ‘markdown’ had non-zero exit status”Warning message in install.packages(...):\n",
      "“installation of package ‘RCurl’ had non-zero exit status”Warning message in install.packages(...):\n",
      "“installation of package ‘nlme’ had non-zero exit status”Warning message in install.packages(...):\n",
      "“installation of package ‘stringr’ had non-zero exit status”Warning message in install.packages(...):\n",
      "“installation of package ‘munsell’ had non-zero exit status”Warning message in install.packages(...):\n",
      "“installation of package ‘checkmate’ had non-zero exit status”Warning message in install.packages(...):\n",
      "“installation of package ‘htmlwidgets’ had non-zero exit status”Warning message in install.packages(...):\n",
      "“installation of package ‘Matrix’ had non-zero exit status”Warning message in install.packages(...):\n",
      "“installation of package ‘latticeExtra’ had non-zero exit status”Warning message in install.packages(...):\n",
      "“installation of package ‘S4Vectors’ had non-zero exit status”Warning message in install.packages(...):\n",
      "“installation of package ‘Biobase’ had non-zero exit status”Warning message in install.packages(...):\n",
      "“installation of package ‘locfit’ had non-zero exit status”Warning message in install.packages(...):\n",
      "“installation of package ‘vctrs’ had non-zero exit status”Warning message in install.packages(...):\n",
      "“installation of package ‘knitr’ had non-zero exit status”Warning message in install.packages(...):\n",
      "“installation of package ‘survival’ had non-zero exit status”Warning message in install.packages(...):\n",
      "“installation of package ‘mgcv’ had non-zero exit status”Warning message in install.packages(...):\n",
      "“installation of package ‘reshape2’ had non-zero exit status”Warning message in install.packages(...):\n",
      "“installation of package ‘scales’ had non-zero exit status”Warning message in install.packages(...):\n",
      "“installation of package ‘IRanges’ had non-zero exit status”Warning message in install.packages(...):\n",
      "“installation of package ‘blob’ had non-zero exit status”Warning message in install.packages(...):\n",
      "“installation of package ‘pillar’ had non-zero exit status”Warning message in install.packages(...):\n",
      "“installation of package ‘GenomeInfoDb’ had non-zero exit status”Warning message in install.packages(...):\n",
      "“installation of package ‘XVector’ had non-zero exit status”Warning message in install.packages(...):\n",
      "“installation of package ‘htmlTable’ had non-zero exit status”Warning message in install.packages(...):\n",
      "“installation of package ‘BiocParallel’ had non-zero exit status”Warning message in install.packages(...):\n",
      "“installation of package ‘RSQLite’ had non-zero exit status”Warning message in install.packages(...):\n",
      "“installation of package ‘DelayedArray’ had non-zero exit status”Warning message in install.packages(...):\n",
      "“installation of package ‘tibble’ had non-zero exit status”Warning message in install.packages(...):\n",
      "“installation of package ‘GenomicRanges’ had non-zero exit status”Warning message in install.packages(...):\n",
      "“installation of package ‘AnnotationDbi’ had non-zero exit status”Warning message in install.packages(...):\n",
      "“installation of package ‘SummarizedExperiment’ had non-zero exit status”Warning message in install.packages(...):\n",
      "“installation of package ‘ggplot2’ had non-zero exit status”Warning message in install.packages(...):\n",
      "“installation of package ‘annotate’ had non-zero exit status”Warning message in install.packages(...):\n",
      "“installation of package ‘viridis’ had non-zero exit status”Warning message in install.packages(...):\n",
      "“installation of package ‘genefilter’ had non-zero exit status”Warning message in install.packages(...):\n",
      "“installation of package ‘geneplotter’ had non-zero exit status”Warning message in install.packages(...):\n",
      "“installation of package ‘Hmisc’ had non-zero exit status”Warning message in install.packages(...):\n",
      "“installation of package ‘DESeq2’ had non-zero exit status”Updating HTML index of packages in '.Library'\n",
      "Making 'packages.html' ... done\n",
      "Update old packages: 'digest', 'evaluate', 'htmltools', 'IRkernel', 'Rcpp',\n",
      "  'repr'\n"
     ]
    }
   ],
   "source": [
    "# ------------------------------------------------------------------------------------------------\n",
    "# ------------------------------------------------------------------------------------------------\n",
    "# How to Install Packages Through Jupyter Notebook\n",
    "# https://stackoverflow.com/questions/42459423/cannot-install-r-packages-in-jupyter-notebook\n",
    "# install.packages(\"tidyverse\", repos='http://cran.us.r-project.org')\n",
    "# install.packages(\"MASS\", repos='http://cran.us.r-project.org')\n",
    "# ------------------------------------------------------------------------------------------------\n",
    "# ------------------------------------------------------------------------------------------------\n",
    "install.packages(\"BiocManager\")\n",
    "BiocManager::install(\"DESeq2\")"
   ]
  },
  {
   "cell_type": "code",
   "execution_count": 7,
   "metadata": {},
   "outputs": [
    {
     "name": "stderr",
     "output_type": "stream",
     "text": [
      "Bioconductor version 3.9 (BiocManager 1.30.7), R 3.6.1 (2019-07-05)\n",
      "Installing package(s) 'edgeR'\n",
      "also installing the dependencies ‘lattice’, ‘limma’, ‘locfit’\n",
      "\n",
      "Warning message in install.packages(...):\n",
      "“installation of package ‘lattice’ had non-zero exit status”Warning message in install.packages(...):\n",
      "“installation of package ‘limma’ had non-zero exit status”Warning message in install.packages(...):\n",
      "“installation of package ‘locfit’ had non-zero exit status”Warning message in install.packages(...):\n",
      "“installation of package ‘edgeR’ had non-zero exit status”Updating HTML index of packages in '.Library'\n",
      "Making 'packages.html' ... done\n",
      "Update old packages: 'digest', 'evaluate', 'htmltools', 'IRkernel', 'Rcpp',\n",
      "  'repr'\n"
     ]
    }
   ],
   "source": [
    "BiocManager::install(\"edgeR\")"
   ]
  },
  {
   "cell_type": "code",
   "execution_count": 6,
   "metadata": {},
   "outputs": [
    {
     "ename": "ERROR",
     "evalue": "Error in library(DESeq2): there is no package called ‘DESeq2’\n",
     "output_type": "error",
     "traceback": [
      "Error in library(DESeq2): there is no package called ‘DESeq2’\nTraceback:\n",
      "1. library(DESeq2)"
     ]
    }
   ],
   "source": [
    "#Load Packages\n",
    "library(DESeq2)\n",
    "library(edgeR)\n",
    "library(limma)\n",
    "library(Glimma)\n",
    "library(gplots)\n",
    "library(RColorBrewer)\n",
    "library(pheatmap)\n",
    "library(ggplot2)\n",
    "library(ggrepel)\n",
    "library(pathfindR)\n",
    "library(scales)\n",
    "library(data.table)\n",
    "library(fBasics)\n",
    "library(forcats)\n",
    "library(omu)\n",
    "library(maptools)\n",
    "library(phyloseq)\n",
    "library(vegan)"
   ]
  },
  {
   "cell_type": "code",
   "execution_count": null,
   "metadata": {},
   "outputs": [],
   "source": [
    "#Set Theme for Figures\n",
    "theme<-theme(panel.background = element_blank(),panel.border=element_rect(fill=NA),\n",
    "        panel.grid.major = element_blank(),panel.grid.minor = element_blank(),strip.background=element_blank(),\n",
    "        axis.text.x=element_text(colour=\"black\"),axis.text.y=element_text(colour=\"black\"),\n",
    "        axis.ticks=element_line(colour=\"black\"),plot.margin=unit(c(1,1,1,1),\"line\"), legend.position=\"none\")"
   ]
  },
  {
   "cell_type": "code",
   "execution_count": null,
   "metadata": {},
   "outputs": [],
   "source": [
    "#Choose Alpha/FDR\n",
    "alpha = 0.01"
   ]
  },
  {
   "cell_type": "code",
   "execution_count": null,
   "metadata": {},
   "outputs": [],
   "source": [
    "#Load Meta Data\n",
    "coldata <- read.delim2(\"Map.Metatrancriptome.COPD.SmNV.b3.txt\", sep=\"\\t\")\n",
    "\n",
    "#Remove Sample with 0 Reads for all Genes\n",
    "coldata <- coldata[coldata$SampleID!=\"SmNV.0039.BAL.L.untouched\",]\n",
    "\n",
    "#Order Meta Data by SampleId\n",
    "coldata <- coldata[order(coldata$SampleID),]"
   ]
  },
  {
   "cell_type": "code",
   "execution_count": null,
   "metadata": {},
   "outputs": [],
   "source": [
    "#load Count Data\n",
    "mycounts <-read.delim2(\"KEGG_gene_table.txt\", sep=\"\\t\", row.names=1)"
   ]
  }
 ],
 "metadata": {
  "kernelspec": {
   "display_name": "R",
   "language": "R",
   "name": "ir"
  },
  "language_info": {
   "codemirror_mode": "r",
   "file_extension": ".r",
   "mimetype": "text/x-r-source",
   "name": "R",
   "pygments_lexer": "r",
   "version": "3.6.1"
  }
 },
 "nbformat": 4,
 "nbformat_minor": 2
}
